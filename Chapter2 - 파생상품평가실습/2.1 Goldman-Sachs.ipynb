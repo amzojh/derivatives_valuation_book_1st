{
 "cells": [
  {
   "attachments": {},
   "cell_type": "markdown",
   "metadata": {},
   "source": [
    "# 2.1 Goldman-Sachs 기반 Valuation\n",
    "last updated : 2023-06-30\n",
    "\n",
    "Goldman Sachs 모형을 활용한 CB 및 RCPS Valaution 을 수행한다.\n",
    "단,본실습은 설명의 편의상 앞선 엑셀실습과 같이 노드기간, 이자율 등의 변수에 대한 가정을 단순하게 정의하였다."
   ]
  },
  {
   "cell_type": "markdown",
   "metadata": {},
   "source": [
    "### input 정의\n",
    "- s : 기초자산\n",
    "- rf : 무위험이자율\n",
    "- kd : 위험이자율\n",
    "- volatility : 변동성\n",
    "- t : 만기\n",
    "- x : 행사가액\n",
    "- put_ytm : put만기수익률\n",
    "- u : 상승확률\n",
    "- d : 하락확률\n",
    "- p : 위험중립확률 ( p )\n",
    "- q : 위험중립확률 ( q )"
   ]
  },
  {
   "cell_type": "code",
   "execution_count": 1,
   "metadata": {},
   "outputs": [],
   "source": [
    "import numpy as np\n",
    "\n",
    "node_count = 11\n",
    "s = 100000\n",
    "x = 100000\n",
    "put_yield = 0.05\n",
    "rf = 0.015 # 무위험이자율\n",
    "kd = 0.05 # 위험이자율 \n",
    "volatility = 0.255\n",
    "delta_t = 1\n",
    "u = np.exp(volatility* np.sqrt(delta_t)) \n",
    "d = 1 / u\n",
    "p = (np.exp(rf * delta_t) - d) / (u - d)\n",
    "q = 1 - p"
   ]
  },
  {
   "cell_type": "markdown",
   "metadata": {},
   "source": [
    "![image.png](attachment:image.png)"
   ]
  },
  {
   "cell_type": "markdown",
   "metadata": {},
   "source": [
    "### Step 1: 날짜 배열 생성"
   ]
  },
  {
   "cell_type": "code",
   "execution_count": 2,
   "metadata": {},
   "outputs": [
    {
     "name": "stdout",
     "output_type": "stream",
     "text": [
      "[ 0  1  2  3  4  5  6  7  8  9 10]\n"
     ]
    }
   ],
   "source": [
    "import numpy as np\n",
    "import pandas as pd\n",
    "\n",
    "# 편의상 노드는 현재시점 ~ 10년까지 총 11개 노드로 구성\n",
    "\n",
    "node_array = arr = np.arange(0, node_count)\n",
    "print(node_array)\n",
    "# 출력 : [ 0  1  2  3  4  5  6  7  8  9 10]"
   ]
  },
  {
   "cell_type": "markdown",
   "metadata": {},
   "source": [
    "### Step 2: 부트스트래핑을 사용하여 kd 및 rf spot rate 및 forward rate 계산"
   ]
  },
  {
   "cell_type": "code",
   "execution_count": 3,
   "metadata": {},
   "outputs": [],
   "source": [
    "rf_forward_array = rf + 0.001 * node_array\n",
    "kd_forward_array = kd + 0.0001 * node_array"
   ]
  },
  {
   "cell_type": "code",
   "execution_count": 4,
   "metadata": {},
   "outputs": [
    {
     "name": "stdout",
     "output_type": "stream",
     "text": [
      "[0.015 0.016 0.017 0.018 0.019 0.02  0.021 0.022 0.023 0.024 0.025]\n"
     ]
    }
   ],
   "source": [
    "rf_forward_array\n",
    "print(rf_forward_array)\n",
    "# 출력 : [0.015, 0.016, 0.017, 0.018, 0.019, 0.02 , 0.021, 0.022, 0.023,0.024]\n"
   ]
  },
  {
   "cell_type": "code",
   "execution_count": 5,
   "metadata": {},
   "outputs": [
    {
     "name": "stdout",
     "output_type": "stream",
     "text": [
      "[0.05   0.0501 0.0502 0.0503 0.0504 0.0505 0.0506 0.0507 0.0508 0.0509\n",
      " 0.051 ]\n"
     ]
    }
   ],
   "source": [
    "kd_forward_array\n",
    "print(kd_forward_array)\n",
    "# 출력 : [0.05  0.051 0.052 0.053 0.054 0.055 0.056 0.057 0.058 0.059]"
   ]
  },
  {
   "cell_type": "markdown",
   "metadata": {},
   "source": [
    "### Step 3: 상환전환우선주 상환금액 트리 생성 (주계약/put)"
   ]
  },
  {
   "cell_type": "code",
   "execution_count": 6,
   "metadata": {},
   "outputs": [],
   "source": [
    "# 행사가액 x ( 1 + put 이자율) ^ 각 시점별 제곱\n",
    "put_ammount_array = x * np.power((1+put_yield), node_array)"
   ]
  },
  {
   "cell_type": "code",
   "execution_count": 7,
   "metadata": {},
   "outputs": [
    {
     "name": "stdout",
     "output_type": "stream",
     "text": [
      "[100000.         105000.         110250.         115762.5\n",
      " 121550.625      127628.15625    134009.5640625  140710.04226563\n",
      " 147745.54437891 155132.82159785 162889.46267774]\n"
     ]
    },
    {
     "data": {
      "text/plain": [
       "'\\n[100000.         105000.         110250.         115762.5\\n 121550.625      127628.15625    134009.5640625  140710.04226563\\n 147745.54437891 155132.82159785 162889.46267774]\\n'"
      ]
     },
     "execution_count": 7,
     "metadata": {},
     "output_type": "execute_result"
    }
   ],
   "source": [
    "print(put_ammount_array)\n",
    "# 출력 : \n",
    "\"\"\"\n",
    "[100000.         105000.         110250.         115762.5\n",
    " 121550.625      127628.15625    134009.5640625  140710.04226563\n",
    " 147745.54437891 155132.82159785 162889.46267774]\n",
    "\"\"\""
   ]
  },
  {
   "cell_type": "code",
   "execution_count": 8,
   "metadata": {},
   "outputs": [],
   "source": [
    "# 가장 뒤에있는 상환가능금액에서 해당 시점에 해당하는 kd_forward_rate를 고려하여 상환가능금액에서 채권의 가치를 산출합니다.\n",
    "\n",
    "\n",
    "# put_ammount_array와 동일한 크기의 bond_array를 만든다.\n",
    "bond_array = np.zeros_like(put_ammount_array)\n",
    "# 가장 마지막 가치는 bond_array와 put_ammount_array가 동일합니다. \n",
    "bond_array[-1] = put_ammount_array[-1]\n",
    "\n",
    "# 마지막번째에서 1개 노드 하나 앞에부터 for-loop 생성\n",
    "for i in reversed(range(node_count-1)):\n",
    "    bond_array[i] = bond_array[i+1] / (1 + kd_forward_array[i+1])"
   ]
  },
  {
   "cell_type": "code",
   "execution_count": 9,
   "metadata": {},
   "outputs": [
    {
     "data": {
      "text/plain": [
       "array([ 99477.73357059, 104461.56802248, 109705.53873721, 115223.72733569,\n",
       "       121031.00319341, 127143.06885468, 133576.50813872, 140348.83710136,\n",
       "       147478.5580261 , 154985.21662963, 162889.46267774])"
      ]
     },
     "execution_count": 9,
     "metadata": {},
     "output_type": "execute_result"
    }
   ],
   "source": [
    "bond_array"
   ]
  },
  {
   "cell_type": "markdown",
   "metadata": {},
   "source": [
    "### Step 4: 주가 이항 트리 생성\n"
   ]
  },
  {
   "cell_type": "code",
   "execution_count": 10,
   "metadata": {},
   "outputs": [],
   "source": [
    "# 노드개수만큼의 0으로 이루어진, n x n 행렬생성 \n",
    "stock_binomial_tree = np.zeros((node_count, node_count))\n",
    "\n",
    "# 가장 첫번째 노드에 기초자산주가 설정\n",
    "stock_binomial_tree[0, 0] = s\n",
    "\n",
    "# 2번째 노드부터 마지막 노드까지 순차적으로 실행되는 for-loop 실행\n",
    "for i in range(1, node_count):\n",
    "    \n",
    "    # 상승노드의 경우, 상승계수만 반영\n",
    "    stock_binomial_tree[0, i] = stock_binomial_tree[0, i-1] * u\n",
    "    \n",
    "    # 하락노드\n",
    "    stock_binomial_tree[1:i+1, i] = stock_binomial_tree[:i, i-1] * d\n"
   ]
  },
  {
   "cell_type": "code",
   "execution_count": 11,
   "metadata": {},
   "outputs": [
    {
     "name": "stdout",
     "output_type": "stream",
     "text": [
      "[[100000.         129046.16208729 166529.11949459]\n",
      " [     0.          77491.64979611 100000.        ]\n",
      " [     0.              0.          60049.55788123]]\n"
     ]
    },
    {
     "data": {
      "text/plain": [
       "'\\n[[100000.         129046.16208729 166529.11949459]\\n [     0.          77491.64979611 100000.        ]\\n [     0.              0.          60049.55788123]]\\n'"
      ]
     },
     "execution_count": 11,
     "metadata": {},
     "output_type": "execute_result"
    }
   ],
   "source": [
    "# 11 x 11 배열 중, 앞 3 x 3 배열만 보여줌\n",
    "print(stock_binomial_tree[:3, :3])\n",
    "\n",
    "# 출력 : \n",
    "\"\"\"\n",
    "[[100000.         129046.16208729 166529.11949459]\n",
    " [     0.          77491.64979611 100000.        ]\n",
    " [     0.              0.          60049.55788123]]\n",
    "\"\"\""
   ]
  },
  {
   "attachments": {},
   "cell_type": "markdown",
   "metadata": {},
   "source": [
    "### Step 5: GS Valuation"
   ]
  },
  {
   "cell_type": "code",
   "execution_count": 12,
   "metadata": {},
   "outputs": [],
   "source": [
    "# decision_tee : 의사결정트리 \n",
    "# gs_value_tree : gs 가치트리 \n",
    "# holding_value_tree : gs가치트리에서 전 노드 보유가치\n",
    "\n",
    "decision_tree = np.zeros_like(stock_binomial_tree)\n",
    "discount_factor_tree = np.zeros_like(stock_binomial_tree)\n",
    "gs_value_tree = np.zeros_like(stock_binomial_tree)\n",
    "holding_value_tree = np.zeros_like(stock_binomial_tree)\n",
    "\n",
    "# 가장 마지막 값을 업데이트\n",
    "gs_value_tree[:, -1] = np.maximum(stock_binomial_tree[:, -1], bond_array[-1])\n",
    "\n",
    "# 가장 마지막 값이 전환트리랑 똑같다면, 1, 아니면 0\n",
    "decision_tree[:, -1] = np.where(gs_value_tree[:, -1] == stock_binomial_tree[:, -1], 1, 0)\n",
    "\n",
    "# 가장 마지막의 할인율 업데이트\n",
    "# if 전환: rf, if 상환: kd\n",
    "discount_factor_tree[:, -1] = np.where(decision_tree[:, -1] == 1, rf, kd_forward_array[-1])\n",
    "\n",
    "for t in reversed(range(gs_value_tree.shape[1] - 1)):\n",
    "\n",
    "    # t시점의 holding value를 업데이트한다.\n",
    "\n",
    "    holding_value_tree[:t+1, t] = (gs_value_tree[:t+1, t+1] * p * np.exp(-discount_factor_tree[:t+1,t+1]) \n",
    "                                   + gs_value_tree[1:t+2, t+1] * q * np.exp(-discount_factor_tree[1:t+2, t+1]))\n",
    "\n",
    "    # t시점의 rcps value를 업데이트한다.\n",
    "    gs_value_tree[:t+1, t] = np.maximum(np.maximum(np.maximum(stock_binomial_tree[:t+1, t], bond_array[t]), put_ammount_array[t]), holding_value_tree[:t+1, t])\n",
    "\n",
    "    # t시점의 rcps value로 부터 상환 전환 보유 의사결정을 업데이트한다.\n",
    "    decision_tree[:t+1, t] = np.where(gs_value_tree[:t+1, t] == stock_binomial_tree[:t+1, t], 1,\n",
    "                                        np.where(gs_value_tree[:t+1, t] == put_ammount_array[t], 0,\n",
    "                                                decision_tree[:t+1, t+1] * p + decision_tree[1:t+2, t+1] * q))\n",
    "\n",
    "    # 의사결정트리에 discount factor tree를 업데이트한다.\n",
    "    # if 전환: rf, if 상환: kd else: t+1시점의 discount factor * t+1시점의 decision_tree의 확률\n",
    "    discount_factor_tree[:t+1, t] = np.where(decision_tree[:t+1, t] == 1, rf,\n",
    "                                                np.where(decision_tree[:t+1, t] == 0, kd_forward_array[t],\n",
    "                                                        (decision_tree[:t+1, t] * rf) + (\n",
    "                                                            (1 - decision_tree[:t+1, t]) * kd_forward_array[t])\n",
    "                                                        )\n",
    "                                                )\n"
   ]
  },
  {
   "cell_type": "code",
   "execution_count": 13,
   "metadata": {},
   "outputs": [
    {
     "data": {
      "text/plain": [
       "array([127819.6380825,      0.       ,      0.       ,      0.       ,\n",
       "            0.       ,      0.       ,      0.       ,      0.       ,\n",
       "            0.       ,      0.       ,      0.       ])"
      ]
     },
     "execution_count": 13,
     "metadata": {},
     "output_type": "execute_result"
    }
   ],
   "source": [
    "gs_value_tree[:,0]"
   ]
  },
  {
   "attachments": {},
   "cell_type": "markdown",
   "metadata": {},
   "source": [
    "### Step 6: 엑셀로 결과물뽑기\n",
    "위 코드를 엑셀과 같이 확인하기 위한 작업이다. 눈으로 직접 보면서, 계산을 따라갈 수 있는 엑셀처럼 결과값들을 한눈에 볼 수 있도록 엑셀을 구성한다.\n",
    "\n",
    "- stock_binomial_tree : 주가이항과정\n",
    "- put_ammount_array : 상환가능금액\n",
    "- bond_array : 사채가치\n",
    "- decision_tree : 의사결정트리 \n",
    "- holding_value_tree : 보유가치트리 \n",
    "- discount_factor_tree : 할인율트리\n",
    "- gs_value_tree : tf 가치트리 "
   ]
  },
  {
   "cell_type": "code",
   "execution_count": 14,
   "metadata": {},
   "outputs": [],
   "source": [
    "excel_data = {\n",
    "\"stock_binomial_tree\" : stock_binomial_tree,\n",
    "\"put_ammount_array\" : put_ammount_array,\n",
    "\"bond_array\" : bond_array,\n",
    "\"decision_tree\" : decision_tree,\n",
    "\"holding_value_tree\" : holding_value_tree,\n",
    "\"discount_factor_tree\" : discount_factor_tree,\n",
    "\"gs_value_tree\" : gs_value_tree,\n",
    "}\n",
    "\n",
    "excel_path = \"Ch2.1_GoldmanSachs.xlsx\"\n",
    "\n",
    "with pd.ExcelWriter(excel_path, engine='xlsxwriter') as writer:\n",
    "    # 데이터프레임을 엑셀 파일에 저장할 때, 시트 이름을 지정하여 새로운 시트를 추가합니다.\n",
    "    for key in excel_data.keys():\n",
    "        result_df = pd.DataFrame(excel_data[key])\n",
    "        result_df.to_excel(\n",
    "            writer, sheet_name=key, index=True)\n"
   ]
  },
  {
   "cell_type": "code",
   "execution_count": null,
   "metadata": {},
   "outputs": [],
   "source": []
  }
 ],
 "metadata": {
  "kernelspec": {
   "display_name": "deepsearch-kernel",
   "language": "python",
   "name": "deepsearch"
  },
  "language_info": {
   "codemirror_mode": {
    "name": "ipython",
    "version": 3
   },
   "file_extension": ".py",
   "mimetype": "text/x-python",
   "name": "python",
   "nbconvert_exporter": "python",
   "pygments_lexer": "ipython3",
   "version": "3.8.5ds"
  },
  "orig_nbformat": 4
 },
 "nbformat": 4,
 "nbformat_minor": 2
}
