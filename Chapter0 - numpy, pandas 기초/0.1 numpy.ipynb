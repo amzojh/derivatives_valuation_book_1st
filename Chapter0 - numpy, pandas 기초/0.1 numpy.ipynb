{
 "cells": [
  {
   "attachments": {},
   "cell_type": "markdown",
   "metadata": {},
   "source": [
    "# 0.1 numpy 튜토리얼\n",
    "- Author: 오지환\n",
    "- last updated : 2023-09-09\n",
    "\n",
    "파이썬을 활용한 파생상품평가에 핵심이되는 numpy module에 대한 기본적인 개념에 대해서 설명한다.\n",
    "\n",
    "NumPy(넘파이)는 파이썬의 수학적인 연산과 배열 데이터 처리를 위한 핵심 라이브러리이다. NumPy는 다차원 배열 객체와 배열 연산에 유용한 다양한 함수와 도구를 제공하여 데이터 과학, 수치 계산, 머신러닝 등 다양한 분야에서 널리 사용된. 파이썬의 기본 리스트와 비교하여 NumPy 배열은 더 효율적이고 강력한 연산을 수행할 수 있다. \n",
    "\n",
    "특히, 본 책의 파생상품평가에 있어서 매우 핵심적인 역할을 하는 라이브러리이다. \n",
    "\n",
    "본 책에서는 앞으로의 파이썬코드의 이해를 위하여 numpy의 매우 기초적인 내용만 다루며 앞으로 나올 예제들에 본 챕터에서 소개하지않는 함수들이 나올 수 있으며, 독자분들께서는 numpy 공식문서 혹은 타 numpy 관련 책들을 참고하면서 공부하기를 권장한다."
   ]
  },
  {
   "attachments": {},
   "cell_type": "markdown",
   "metadata": {},
   "source": [
    "## numpy 다루기 \n",
    "### 1. 배열생성기초\n",
    "NumPy에서 배열은 ndarray(n-dimensional array)라는 객체로 표현됩니다.\n",
    "'ndarray'는 'n-dimensional array'를 줄인 말로, '다차원 배열'을 의미합니다. 간단히 말하면, ndarray는 같은 종류의 데이터를 담을 수 있는 그리드(grid)라고 생각하면 됩니다. 이 그리드는 어떠한 차원으로도 구성될 수 있습니다."
   ]
  },
  {
   "cell_type": "code",
   "execution_count": 3,
   "metadata": {},
   "outputs": [
    {
     "name": "stdout",
     "output_type": "stream",
     "text": [
      "[1 2 3 4]\n"
     ]
    },
    {
     "data": {
      "text/plain": [
       "'\\n[1 2 3 4]\\n'"
      ]
     },
     "execution_count": 3,
     "metadata": {},
     "output_type": "execute_result"
    }
   ],
   "source": [
    "import numpy as np\n",
    "\n",
    "one_dimension_ndarray = np.array([1,2,3,4])\n",
    "print(one_dimension_ndarray)\n",
    "# 출력 :\n",
    "\"\"\"\n",
    "[1 2 3 4]\n",
    "\"\"\""
   ]
  },
  {
   "attachments": {},
   "cell_type": "markdown",
   "metadata": {},
   "source": [
    "일차원 배열 이외에도 2차원 배열, n차원 배열도 만들 수 있습니다.\n",
    "다만, 설명의 편의상 2차원배열까지만 사용하도록 하겠습니다. 2차원배열은 흔히 알고계시는 엑셀의 테이블과 같은 형식이라고 이해하시면 됩니다."
   ]
  },
  {
   "cell_type": "code",
   "execution_count": 4,
   "metadata": {},
   "outputs": [
    {
     "name": "stdout",
     "output_type": "stream",
     "text": [
      "[[1 2 3 4]\n",
      " [1 2 3 4]\n",
      " [1 2 3 4]\n",
      " [1 2 3 4]]\n"
     ]
    },
    {
     "data": {
      "text/plain": [
       "'\\n[[1 2 3 4]\\n[1 2 3 4]\\n[1 2 3 4]\\n[1 2 3 4]]\\n'"
      ]
     },
     "execution_count": 4,
     "metadata": {},
     "output_type": "execute_result"
    }
   ],
   "source": [
    "two_dimension_ndarray = np.array([[1,2,3,4],[1,2,3,4],[1,2,3,4],[1,2,3,4]])\n",
    "print(two_dimension_ndarray) \n",
    "\n",
    "# 출력 :\n",
    "\"\"\"\n",
    "[[1 2 3 4]\n",
    "[1 2 3 4]\n",
    "[1 2 3 4]\n",
    "[1 2 3 4]]\n",
    "\"\"\""
   ]
  },
  {
   "attachments": {},
   "cell_type": "markdown",
   "metadata": {},
   "source": [
    "### 2. 배열생성 - ones, zeros, random\n",
    "np.zeros() 함수를 사용하여 모든 요소가 0인 배열을 생성하거나, np.ones() 함수를 사용하여 모든 요소가 1인 배열을 생성할 수 있다. 또한, 테이블의 크기만 알고, 각 요소에 random 값을 부여할 수도 있다. \n",
    "\n",
    "\n",
    "위와 같은 함수는 손쉽게 ndarray의 크기만 알면 배열을 생성해낼 수 있는 장점이 있다. "
   ]
  },
  {
   "cell_type": "code",
   "execution_count": 5,
   "metadata": {},
   "outputs": [
    {
     "name": "stdout",
     "output_type": "stream",
     "text": [
      "[[1. 1. 1. 1.]\n",
      " [1. 1. 1. 1.]]\n"
     ]
    },
    {
     "data": {
      "text/plain": [
       "'\\n\\n[[1. 1. 1. 1.]\\n [1. 1. 1. 1.]]\\n\\n'"
      ]
     },
     "execution_count": 5,
     "metadata": {},
     "output_type": "execute_result"
    }
   ],
   "source": [
    "# np.ones([2,4]) 란 2 x 4 배열의 크기를 가지며, 각각의 원소가 1인 ndarray를 생성한다. \n",
    "ones_two_dimension_ndarray = np.ones([2,4])\n",
    "print(ones_two_dimension_ndarray) \n",
    "# 출력 :\n",
    "\"\"\"\n",
    "\n",
    "[[1. 1. 1. 1.]\n",
    " [1. 1. 1. 1.]]\n",
    "\n",
    "\"\"\"\n"
   ]
  },
  {
   "cell_type": "code",
   "execution_count": 6,
   "metadata": {},
   "outputs": [
    {
     "name": "stdout",
     "output_type": "stream",
     "text": [
      "[[0. 0. 0. 0.]\n",
      " [0. 0. 0. 0.]\n",
      " [0. 0. 0. 0.]]\n"
     ]
    },
    {
     "data": {
      "text/plain": [
       "'\\n\\n[[0. 0. 0. 0.]\\n [0. 0. 0. 0.]\\n [0. 0. 0. 0.]]\\n \\n'"
      ]
     },
     "execution_count": 6,
     "metadata": {},
     "output_type": "execute_result"
    }
   ],
   "source": [
    "# np.zeros([3,4]) 란 3 x 4 배열의 크기를 가지며, 각각의 원소가 0인 ndarray를 생성합니다.\n",
    "zeros_two_dimension_ndarray = np.zeros([3,4])\n",
    "print(zeros_two_dimension_ndarray)\n",
    "\n",
    "# 출력 :\n",
    "\"\"\"\n",
    "\n",
    "[[0. 0. 0. 0.]\n",
    " [0. 0. 0. 0.]\n",
    " [0. 0. 0. 0.]]\n",
    " \n",
    "\"\"\""
   ]
  },
  {
   "cell_type": "code",
   "execution_count": 7,
   "metadata": {},
   "outputs": [
    {
     "name": "stdout",
     "output_type": "stream",
     "text": [
      "[[0.87361136 0.73591703 0.66174863 0.71448841]\n",
      " [0.81419162 0.67224283 0.97953647 0.40817546]\n",
      " [0.94139285 0.28823412 0.32047696 0.15599212]\n",
      " [0.54098125 0.04774757 0.62612184 0.79577023]\n",
      " [0.65879066 0.05040153 0.54560798 0.40463176]\n",
      " [0.81322221 0.98936953 0.59353944 0.24112469]]\n"
     ]
    },
    {
     "data": {
      "text/plain": [
       "'\\n[[0.38492964 0.59845817 0.89110882 0.62985576]\\n [0.72741048 0.13362749 0.08936951 0.24231004]\\n [0.20380824 0.91635365 0.81887447 0.54764793]\\n [0.20352367 0.84938552 0.42096778 0.81366777]\\n [0.62183767 0.94082749 0.10839366 0.85757813]\\n [0.18392468 0.07741452 0.56943393 0.68143676]]\\n'"
      ]
     },
     "execution_count": 7,
     "metadata": {},
     "output_type": "execute_result"
    }
   ],
   "source": [
    "# np.random.random([6,4]) 란 6 x 4 배열의 크기를 가지며, 각각의 원소가 0~1 랜덤값으로 초기화된 배열을 생성한다.\n",
    "random_two_dimenstion_ndarray = np.random.random([6,4])\n",
    "print(random_two_dimenstion_ndarray)\n",
    "\n",
    "# 출력 :\n",
    "\n",
    "\"\"\"\n",
    "[[0.38492964 0.59845817 0.89110882 0.62985576]\n",
    " [0.72741048 0.13362749 0.08936951 0.24231004]\n",
    " [0.20380824 0.91635365 0.81887447 0.54764793]\n",
    " [0.20352367 0.84938552 0.42096778 0.81366777]\n",
    " [0.62183767 0.94082749 0.10839366 0.85757813]\n",
    " [0.18392468 0.07741452 0.56943393 0.68143676]]\n",
    "\"\"\"\n"
   ]
  },
  {
   "attachments": {},
   "cell_type": "markdown",
   "metadata": {},
   "source": [
    "### 3. 배열 shape 확인\n",
    "배열의 형상(shape)은 ndarray.shape 속성을 통해 확인할 수 있습니다. 해당 매트릭스의 크기를 알 수 있습니다."
   ]
  },
  {
   "cell_type": "code",
   "execution_count": 8,
   "metadata": {},
   "outputs": [
    {
     "ename": "NameError",
     "evalue": "name 'ones_two_dimenstion_ndarray' is not defined",
     "output_type": "error",
     "traceback": [
      "\u001b[1;31m---------------------------------------------------------------------------\u001b[0m",
      "\u001b[1;31mNameError\u001b[0m                                 Traceback (most recent call last)",
      "Cell \u001b[1;32mIn[8], line 1\u001b[0m\n\u001b[1;32m----> 1\u001b[0m \u001b[39mprint\u001b[39m(ones_two_dimenstion_ndarray\u001b[39m.\u001b[39mshape)\n\u001b[0;32m      2\u001b[0m \u001b[39m# 2 x 4 행렬\u001b[39;00m\n",
      "\u001b[1;31mNameError\u001b[0m: name 'ones_two_dimenstion_ndarray' is not defined"
     ]
    }
   ],
   "source": [
    "print(ones_two_dimenstion_ndarray.shape)\n",
    "# 2 x 4 행렬\n"
   ]
  },
  {
   "cell_type": "code",
   "execution_count": 9,
   "metadata": {},
   "outputs": [
    {
     "ename": "NameError",
     "evalue": "name 'zeros_two_dimenstion_ndarray' is not defined",
     "output_type": "error",
     "traceback": [
      "\u001b[1;31m---------------------------------------------------------------------------\u001b[0m",
      "\u001b[1;31mNameError\u001b[0m                                 Traceback (most recent call last)",
      "Cell \u001b[1;32mIn[9], line 1\u001b[0m\n\u001b[1;32m----> 1\u001b[0m \u001b[39mprint\u001b[39m(zeros_two_dimenstion_ndarray\u001b[39m.\u001b[39mshape)\n\u001b[0;32m      2\u001b[0m \u001b[39m# 3 x 4 행렬\u001b[39;00m\n",
      "\u001b[1;31mNameError\u001b[0m: name 'zeros_two_dimenstion_ndarray' is not defined"
     ]
    }
   ],
   "source": [
    "print(zeros_two_dimenstion_ndarray.shape)\n",
    "# 3 x 4 행렬"
   ]
  },
  {
   "cell_type": "markdown",
   "metadata": {},
   "source": []
  },
  {
   "attachments": {},
   "cell_type": "markdown",
   "metadata": {},
   "source": [
    "### 4. 인덱싱 및 슬라이싱\n",
    "\n",
    "인덱싱과 슬라이싱의 개념은 Python List를 다루는 문법에서도 다뤄지며, 동일한 방법으로 numpy에서도 ndarray를 다룰 수 있다.  \n",
    "\n",
    "인덱싱과 슬라이싱은 NumPy 배열에서 특정 요소 또는 일부 요소에 접근하는 방법을 제공한다. 이를 통해 배열의 원하는 부분을 선택하거나 조작할 수 있다.  \n",
    "\n",
    "인덱싱(Indexing)은 배열에서 특정 위치의 단일 요소에 접근하는 것이며, NumPy 배열의 인덱스는 0부터 시작하며, 각 차원마다 인덱스를 지정하여 접근한다. \n",
    "\n",
    " \n"
   ]
  },
  {
   "cell_type": "code",
   "execution_count": 10,
   "metadata": {},
   "outputs": [
    {
     "name": "stdout",
     "output_type": "stream",
     "text": [
      "1\n",
      "3\n",
      "1\n",
      "6\n"
     ]
    }
   ],
   "source": [
    "# 1차원 배열 인덱싱\n",
    "array1d = np.array([1, 2, 3, 4, 5])\n",
    "print(array1d[0])  # 출력: 1\n",
    "print(array1d[2])  # 출력: 3\n",
    "\n",
    "# 2차원 배열 인덱싱\n",
    "array2d = np.array([[1, 2, 3], [4, 5, 6]])\n",
    "print(array2d[0, 0])  # 출력: 1\n",
    "print(array2d[1, 2])  # 출력: 6\n"
   ]
  },
  {
   "attachments": {},
   "cell_type": "markdown",
   "metadata": {},
   "source": [
    " 슬라이싱(Slicing)은 배열에서 일부 요소를 선택하며, 슬라이싱은 콜론(:)을 사용하여 구간을 지정하는 방식으로 수행된다. 사용자가 지정한 시작 인덱스부터 끝 인덱스 전까지의 요소를 선택할 수 있다. "
   ]
  },
  {
   "cell_type": "code",
   "execution_count": 11,
   "metadata": {},
   "outputs": [
    {
     "name": "stdout",
     "output_type": "stream",
     "text": [
      "[2 3 4]\n",
      "[2 5]\n",
      "[4 5 6]\n",
      "[[2 3]\n",
      " [5 6]]\n"
     ]
    }
   ],
   "source": [
    "# 1차원 배열 슬라이싱\n",
    "array1d = np.array([1, 2, 3, 4, 5])\n",
    "print(array1d[1:4])  # 출력: [2 3 4]\n",
    "\n",
    "# 2차원 배열 슬라이싱\n",
    "array2d = np.array([[1, 2, 3], [4, 5, 6]])\n",
    "print(array2d[:, 1])  # 출력: [2 5] (모든 행의 두 번째 열 선택)\n",
    "print(array2d[1, :])  # 출력: [4 5 6] (두 번째 행의 모든 열 선택)\n",
    "print(array2d[0:2, 1:3])  # 출력: [[2 3] [5 6]] (첫 번째부터 두 번째 행, 두 번째부터 세 번째 열 선택)\n"
   ]
  },
  {
   "attachments": {},
   "cell_type": "markdown",
   "metadata": {},
   "source": [
    "### 5. 배열의 연산\n",
    "\n",
    "NumPy는 배열 연산을 위한 다양한 함수와 기능을 제공한다. 기본적인 수학 연산인 덧셈, 뺄셈, 곱셈, 나눗셈은 NumPy 배열에서도 간단하게 수행할 수 있다.,배열 간 연산 시에는 브로드캐스팅(Broadcasting) 개념을 이해하면 보다 폭 넓은 연산이 가능한데, 이를 통해 배열 간의 크기가 다른 연산도 가능하게 하므로 향후 가치평가 로직을 만들 때, 코드의 이해를 위해서 필수적으로 이해해야만 한다."
   ]
  },
  {
   "attachments": {},
   "cell_type": "markdown",
   "metadata": {},
   "source": [
    "#### 배열의 사칙연산"
   ]
  },
  {
   "cell_type": "code",
   "execution_count": 12,
   "metadata": {},
   "outputs": [
    {
     "name": "stdout",
     "output_type": "stream",
     "text": [
      "[5 7 9]\n",
      "[-3 -3 -3]\n",
      "[ 4 10 18]\n",
      "[0.25 0.4  0.5 ]\n"
     ]
    }
   ],
   "source": [
    "# 배열의 기본 연산\n",
    "array1 = np.array([1, 2, 3])\n",
    "array2 = np.array([4, 5, 6])\n",
    "\n",
    "# 덧셈\n",
    "addition = array1 + array2\n",
    "print(addition)  # 출력: [5 7 9]\n",
    "\n",
    "# 뺄셈\n",
    "subtraction = array1 - array2\n",
    "print(subtraction)  # 출력: [-3 -3 -3]\n",
    "\n",
    "# 곱셈\n",
    "multiplication = array1 * array2\n",
    "print(multiplication)  # 출력: [4 10 18]\n",
    "\n",
    "# 나눗셈\n",
    "division = array1 / array2\n",
    "print(division)  # 출력: [0.25 0.4  0.5]\n"
   ]
  },
  {
   "attachments": {},
   "cell_type": "markdown",
   "metadata": {},
   "source": [
    "### 6. 브로드캐스팅(Broadcasting)\n",
    "\n",
    "브로드캐스팅은 NumPy에서 배열 간의 크기가 다른 연산을 가능하게 하는 기능입니다. 작은 배열을 자동으로 확장하여 크기가 큰 배열과 동일한 모양을 만들어 연산을 수행한다.\n",
    "1. 두 배열의 차원 수가 다르면, 차원 수가 작은 배열이 더 큰 배열의 차원 수와 맞을 때까지 1차원을 추가한다.\n",
    "2. 두 배열의 차원 크기가 동일하지 않은 경우, 차원 크기가 1인 배열을 다른 배열과 동일한 크기로 확장한다.\n",
    "3. 두 배열의 차원 크기가 동일한 경우, 해당 차원에서의 요소별 연산이 수행된다.\n",
    "\n",
    "브로드캐스팅은 배열 간의 요소별 연산뿐만 아니라 스칼라와 배열 간의 연산에도 적용된다. \n",
    "스칼라는 크기가 1인 배열로 간주되며, 스칼라와 배열 간의 연산은 배열의 각 요소에 스칼라 값을 적용하는 것과 동일하다.\n",
    "\n",
    "위의 이야기를 조금 더 구체화하면, \n",
    "\n",
    "1. 차원의 크기가 1일때 가능하다.\n",
    "두 배열 간의 연산에서 최소한 하나의 배열의 차원이 1이라면(0번 축이든 1번 축이든; 1행이든 1열이든) 가능하다.\n",
    "2. 차원의 짝이 맞을 때 가능하다.\n",
    "차원에 대해 축의 길이가 동일하면 브로드캐스팅이 가능하다.\n",
    "\n",
    "브로드캐스팅을 활용하면 배열의 크기가 다른 연산도 간편하게 수행할 수 있으며, 코드의 가독성과 효율성을 높일 수 있다."
   ]
  },
  {
   "cell_type": "code",
   "execution_count": 13,
   "metadata": {},
   "outputs": [
    {
     "name": "stdout",
     "output_type": "stream",
     "text": [
      "[2 4 6]\n",
      "[[2 4 6]\n",
      " [5 7 9]]\n"
     ]
    }
   ],
   "source": [
    "import numpy as np\n",
    "\n",
    "# 브로드캐스팅\n",
    "array1 = np.array([1, 2, 3])\n",
    "scalar = 2\n",
    "\n",
    "# 스칼라와 배열의 곱셈\n",
    "result = array1 * scalar # 3 x 1 배열과 , 1개 원소의 곱\n",
    "print(result)  \n",
    "# 출력: [2 4 6]\n",
    "\n",
    "# 다차원 배열의 브로드캐스팅\n",
    "array2 = np.array([[1, 2, 3], [4, 5, 6]])\n",
    "array3 = np.array([1, 2, 3])\n",
    "\n",
    "# 배열 간의 덧셈\n",
    "result = array2 + array3  # 3 x 2 배열과 3 x 1 배열의 덧셈\n",
    "print(result)\n",
    "# 출력:\n",
    "# [[2 4 6]\n",
    "#  [5 7 9]]"
   ]
  }
 ],
 "metadata": {
  "kernelspec": {
   "display_name": "deepsearch-valuation",
   "language": "python",
   "name": "python3"
  },
  "language_info": {
   "codemirror_mode": {
    "name": "ipython",
    "version": 3
   },
   "file_extension": ".py",
   "mimetype": "text/x-python",
   "name": "python",
   "nbconvert_exporter": "python",
   "pygments_lexer": "ipython3",
   "version": "3.11.4"
  },
  "orig_nbformat": 4
 },
 "nbformat": 4,
 "nbformat_minor": 2
}
