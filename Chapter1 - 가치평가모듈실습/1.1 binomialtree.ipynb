{
 "cells": [
  {
   "attachments": {},
   "cell_type": "markdown",
   "metadata": {},
   "source": [
    "# 1.1 binomialtree\n",
    "last updated : 2023-09-09\n",
    "Author: 오지환\n",
    "\n",
    "Numpy 라이브러리를 이용하여 주가 이항트리를 그리는 실습\n",
    "\n",
    "### input 정의\n",
    "- node_count : 노드개수\n",
    "- u : 상승계수\n",
    "- d : 하락계수\n",
    "- s : 기초자산주가"
   ]
  },
  {
   "cell_type": "code",
   "execution_count": 4,
   "metadata": {},
   "outputs": [],
   "source": [
    "import numpy as np\n",
    "import math\n",
    "\n",
    "\n",
    "# input\n",
    "node_count = 3\n",
    "u = 1.1\n",
    "d = 1 / u\n",
    "s = 10000"
   ]
  },
  {
   "cell_type": "code",
   "execution_count": 5,
   "metadata": {},
   "outputs": [],
   "source": [
    "# 노드개수만큼의 0으로 이루어진, n x n 행렬생성 \n",
    "stock_binomial_tree = np.zeros((node_count, node_count))\n",
    "\n",
    "# 가장 첫번째 노드에 기초자산주가 설정\n",
    "stock_binomial_tree[0, 0] = s\n",
    "\n",
    "for i in range(1, node_count):\n",
    "    for j in range(i+1):\n",
    "        # 상승계수는 i - j 번 , 하락계수는 j 만큼 반영\n",
    "        stock_binomial_tree[j,i] = s * math.pow(u, i-j) * math.pow(d, j)\n"
   ]
  },
  {
   "cell_type": "code",
   "execution_count": 6,
   "metadata": {},
   "outputs": [
    {
     "name": "stdout",
     "output_type": "stream",
     "text": [
      "[[10000.         11000.         12100.        ]\n",
      " [    0.          9090.90909091 10000.        ]\n",
      " [    0.             0.          8264.46280992]]\n"
     ]
    }
   ],
   "source": [
    "print(stock_binomial_tree)"
   ]
  },
  {
   "attachments": {},
   "cell_type": "markdown",
   "metadata": {},
   "source": [
    "### 심화버전(Slicing 이용)\n"
   ]
  },
  {
   "cell_type": "code",
   "execution_count": 13,
   "metadata": {},
   "outputs": [],
   "source": [
    "# 노드개수만큼의 0으로 이루어진, n x n 행렬생성 \n",
    "stock_binomial_tree = np.zeros((node_count, node_count))\n",
    "\n",
    "# 가장 첫번째 노드에 기초자산주가 설정\n",
    "stock_binomial_tree[0, 0] = s\n",
    "\n",
    "# 2번째 노드부터 마지막 노드까지 순차적으로 실행되는 for-loop 실행\n",
    "for i in range(1, node_count):\n",
    "    \n",
    "    # 상승노드의 경우, 상승계수만 반영\n",
    "    stock_binomial_tree[0, i] = stock_binomial_tree[0, i-1] * u\n",
    "    \n",
    "    # 하락노드의 경우, 하락계수만 반영\n",
    "    stock_binomial_tree[1:i+1, i] = stock_binomial_tree[:i, i-1] * d\n"
   ]
  },
  {
   "cell_type": "code",
   "execution_count": 14,
   "metadata": {},
   "outputs": [],
   "source": [
    "# ndarray를 dataframe으로 만들고 엑셀로 저장하기\n",
    "import pandas as pd\n",
    "df = pd.DataFrame(stock_binomial_tree)\n",
    "\n",
    "df.to_excel(\"Ch1.1_binomial_tree.xlsx\")"
   ]
  },
  {
   "cell_type": "markdown",
   "metadata": {},
   "source": []
  }
 ],
 "metadata": {
  "kernelspec": {
   "display_name": "deepsearch-valuation",
   "language": "python",
   "name": "python3"
  },
  "language_info": {
   "codemirror_mode": {
    "name": "ipython",
    "version": 3
   },
   "file_extension": ".py",
   "mimetype": "text/x-python",
   "name": "python",
   "nbconvert_exporter": "python",
   "pygments_lexer": "ipython3",
   "version": "3.8.1"
  },
  "orig_nbformat": 4
 },
 "nbformat": 4,
 "nbformat_minor": 2
}
