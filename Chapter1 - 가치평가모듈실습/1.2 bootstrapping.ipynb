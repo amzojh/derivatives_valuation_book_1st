{
 "cells": [
  {
   "attachments": {},
   "cell_type": "markdown",
   "metadata": {},
   "source": [
    "# 1.2 bootstrapping\n",
    "last updated : 2023-06-25\n",
    "\n",
    "부트스트래핑과정을 파이썬으로 실습해보는 과정\n",
    "이자지급주기 1년을 가정하고, 관측되는 ytm의 기간은 1년, 3년, 5년물이며, 각각의 ytm은 1% , 3% , 5%로 가정\n",
    "\n",
    "### input 정의\n",
    "- basis : 이자지급주기\n",
    "- ytm_periods : 관측된 ytm의 연도\n",
    "- ytm_interests : 관측된 ytm의 이자율"
   ]
  },
  {
   "attachments": {},
   "cell_type": "markdown",
   "metadata": {},
   "source": [
    "#### 1. ytm 보간법\n",
    "관측되는 ytm과 이자율을 통해서 이자지급주기마다의 보간법이 적용된 ytm 이자율들을 구합니다.  "
   ]
  },
  {
   "cell_type": "code",
   "execution_count": 3,
   "metadata": {},
   "outputs": [],
   "source": [
    "import numpy as np\n",
    "\n",
    "basis = 1 # 이자지급 1년에 1번을 가정합니다. \n",
    "ytm_periods = [1,3,5] # 관측기간은 1년, 3년, 5년\n",
    "ytm_interests = [0.01, 0.03, 0.05] \n",
    "bond_principal = 100 # 채권이자원금 100원 가정"
   ]
  },
  {
   "cell_type": "code",
   "execution_count": 4,
   "metadata": {},
   "outputs": [],
   "source": [
    "# basis 마다 노드 생성\n",
    "basis_array = np.arange(basis, 5 + basis, basis)\n",
    "\n",
    "# 출력 : [1 2 3 4 5]\n",
    "\n",
    "\n",
    "# ytm 보간법\n",
    "interpolated_ytm_interests = np.interp(\n",
    "    basis_array, ytm_periods, ytm_interests)\n",
    "\n",
    "# 출력 : array([0.01, 0.02, 0.03, 0.04, 0.05])"
   ]
  },
  {
   "attachments": {},
   "cell_type": "markdown",
   "metadata": {},
   "source": [
    "#### 2. spot 이자율 산출\n",
    "보간법이 적용된 ytm 이자율들을 활용하여, spot 이자율을 산출하는 과정이다.\n",
    "보다 자세한 내용은 본 책 내용의 xxx를 참고  "
   ]
  },
  {
   "cell_type": "code",
   "execution_count": 5,
   "metadata": {},
   "outputs": [],
   "source": [
    "spot_rates = [interpolated_ytm_interests[0]] # 가장 첫번째 spot 이자율은 ytm 관측이자율로 고정\n",
    "\n",
    "for idx, ytm in enumerate(interpolated_ytm_interests[1:]):\n",
    "    t = (idx + 1) * basis\n",
    "    pv_interest = 0\n",
    "    for j in range(idx + 1):\n",
    "\n",
    "        # 기간별 원금이자 계산\n",
    "        current_interest = bond_principal * basis * ytm\n",
    "        exponent = j + 1\n",
    "\n",
    "        # 기간에 대응하는 Spot rate로 원금이자를 할인하여 이자의 현재가치 계산\n",
    "        pv_current_interest = current_interest / np.power((1 + spot_rates[j]), exponent)\n",
    "\n",
    "        # 이자누적\n",
    "        pv_interest += pv_current_interest\n",
    "\n",
    "    # 만기원리금 계산 : 원금 + (1 + ytm * basis)\n",
    "    total_interest_principal = bond_principal * (1 + ytm)\n",
    "\n",
    "    # 만기원리금 계산 : 원금 + (1 + ytm * basis)\n",
    "    pv_bond_price = bond_principal - pv_interest\n",
    "\n",
    "    exponent = idx + 2\n",
    "    pv_factor = total_interest_principal / pv_bond_price\n",
    "    spot_rate = (np.power(pv_factor, 1 / exponent) - 1)\n",
    "    spot_rates.append(spot_rate)\n"
   ]
  },
  {
   "cell_type": "code",
   "execution_count": 6,
   "metadata": {},
   "outputs": [],
   "source": [
    "# 결과를 dataframe으로 만들고 엑셀로 저장하기\n",
    "import pandas as pd\n",
    "df = pd.DataFrame(spot_rates)\n",
    "df.to_excel(\"Ch1.2_bootstrapping_spot_rates.xlsx\")"
   ]
  },
  {
   "cell_type": "code",
   "execution_count": null,
   "metadata": {},
   "outputs": [],
   "source": []
  },
  {
   "attachments": {},
   "cell_type": "markdown",
   "metadata": {},
   "source": [
    "#### 3. forward 이자율 산출\n",
    "각 기간별 spot 이자율을 산출한 후에 각 시점별 forward 이자율을 산출합니다."
   ]
  },
  {
   "cell_type": "code",
   "execution_count": 8,
   "metadata": {},
   "outputs": [],
   "source": [
    "forward_rates = [spot_rates[0]]\n",
    "for i in range(1, len(spot_rates)):\n",
    "    t1 = i + 1\n",
    "    t2 = i\n",
    "    \n",
    "    forward_rate = ((np.power((1 + spot_rates[i]), t1) / np.power((1 + spot_rates[i - 1] ), t2)) - 1)\n",
    "    forward_rates.append(forward_rate)"
   ]
  },
  {
   "cell_type": "markdown",
   "metadata": {},
   "source": []
  },
  {
   "cell_type": "code",
   "execution_count": 9,
   "metadata": {},
   "outputs": [],
   "source": [
    "# 결과를 dataframe으로 만들고 엑셀로 저장하기\n",
    "import pandas as pd\n",
    "forward_rates_df = pd.DataFrame(forward_rates)\n",
    "forward_rates_df.to_excel(\"Ch1.2_bootstrapping_forward_rates.xlsx\")"
   ]
  },
  {
   "cell_type": "code",
   "execution_count": null,
   "metadata": {},
   "outputs": [],
   "source": []
  }
 ],
 "metadata": {
  "kernelspec": {
   "display_name": "Python 3",
   "language": "python",
   "name": "python3"
  },
  "language_info": {
   "codemirror_mode": {
    "name": "ipython",
    "version": 3
   },
   "file_extension": ".py",
   "mimetype": "text/x-python",
   "name": "python",
   "nbconvert_exporter": "python",
   "pygments_lexer": "ipython3",
   "version": "3.8.1"
  },
  "orig_nbformat": 4
 },
 "nbformat": 4,
 "nbformat_minor": 2
}
