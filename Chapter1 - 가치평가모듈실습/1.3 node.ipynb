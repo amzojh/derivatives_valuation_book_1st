{
 "cells": [
  {
   "attachments": {},
   "cell_type": "markdown",
   "metadata": {},
   "source": [
    "# 1.3 node\n",
    "last updated : 2023-06-26\n",
    "\n",
    "노드간격베이스로 노드를 생성하는 방법과 노드개수기반으로 노드를 생성하는 방법에 대한 실습"
   ]
  },
  {
   "attachments": {},
   "cell_type": "markdown",
   "metadata": {},
   "source": [
    "## 노드개수기반으로 노드구하기\n",
    "### input 정의\n",
    "- interval : 노드간격 (일))\n",
    "- start_date : 평가기준일\n",
    "- end_date : 만기일자"
   ]
  },
  {
   "attachments": {},
   "cell_type": "markdown",
   "metadata": {},
   "source": []
  },
  {
   "cell_type": "code",
   "execution_count": null,
   "metadata": {},
   "outputs": [],
   "source": [
    "import numpy as np\n",
    "import pandas as pd\n",
    "\n",
    "start_date_str = \"2023-06-30\"\n",
    "end_date_str = \"2030-12-31\"\n",
    "node_count = 30\n",
    "\n",
    "start_date = pd.Timestamp(start_date_str)\n",
    "end_date = pd.Timestamp(end_date_str)\n",
    "\n",
    "date_range = pd.date_range(\n",
    "    start=start_date, end=end_date, periods=node_count)\n",
    "date_array = np.array(date_range)\n",
    "\n",
    "date_array\n",
    "# 출력 \n",
    "'''\n",
    "array(['2023-06-30T00:00:00.000000000', '2023-10-02T12:24:49.655172414',\n",
    "       '2024-01-05T00:49:39.310344828', '2024-04-08T13:14:28.965517240',\n",
    "       '2024-07-12T01:39:18.620689656', '2024-10-14T14:04:08.275862072',\n",
    "       '2025-01-17T02:28:57.931034480', '2025-04-21T14:53:47.586206896',\n",
    "       '2025-07-25T03:18:37.241379312', '2025-10-27T15:43:26.896551728',\n",
    "       '2026-01-30T04:08:16.551724144', '2026-05-04T16:33:06.206896560',\n",
    "       '2026-08-07T04:57:55.862068960', '2026-11-09T17:22:45.517241376',\n",
    "       '2027-02-12T05:47:35.172413792', '2027-05-17T18:12:24.827586208',\n",
    "       '2027-08-20T06:37:14.482758624', '2027-11-22T19:02:04.137931040',\n",
    "       '2028-02-25T07:26:53.793103456', '2028-05-29T19:51:43.448275872',\n",
    "       '2028-09-01T08:16:33.103448288', '2028-12-04T20:41:22.758620704',\n",
    "       '2029-03-09T09:06:12.413793120', '2029-06-11T21:31:02.068965536',\n",
    "       '2029-09-14T09:55:51.724137920', '2029-12-17T22:20:41.379310336',\n",
    "       '2030-03-22T10:45:31.034482752', '2030-06-24T23:10:20.689655168',\n",
    "       '2030-09-27T11:35:10.344827584', '2030-12-31T00:00:00.000000000'],\n",
    "      dtype='datetime64[ns]')   \n",
    "'''\n"
   ]
  },
  {
   "cell_type": "code",
   "execution_count": null,
   "metadata": {},
   "outputs": [],
   "source": []
  },
  {
   "attachments": {},
   "cell_type": "markdown",
   "metadata": {},
   "source": [
    "## 노드간격기반 노드구하기\n",
    "### input 정의\n",
    "- interval : 노드간격 (일))\n",
    "- start_date : 평가기준일\n",
    "- end_date : 만기일자"
   ]
  },
  {
   "cell_type": "code",
   "execution_count": null,
   "metadata": {},
   "outputs": [],
   "source": []
  },
  {
   "cell_type": "code",
   "execution_count": null,
   "metadata": {},
   "outputs": [],
   "source": []
  },
  {
   "cell_type": "code",
   "execution_count": null,
   "metadata": {},
   "outputs": [],
   "source": [
    "import numpy as np\n",
    "import pandas as pd\n",
    "\n",
    "interval = 7 #1개 노드Step 당 7일간격\n",
    "start_date_str = \"2023-06-30\" \n",
    "end_date_str = \"2023-12-31\"\n",
    "\n",
    "freq = f\"{interval}D\"\n",
    "start_date = np.datetime64(start_date_str, \"D\")\n",
    "end_date = np.datetime64(end_date_str, \"D\")\n",
    "\n",
    "print(freq)\n",
    "\n",
    "date_range = pd.date_range(\n",
    "    start=start_date, end=end_date, freq=freq)\n",
    "\n",
    "date_array = np.array(date_range)\n",
    "\n",
    "\n",
    "# 만약 마지막 일자가 간격이 맞지 않아 생성되지 않은경우, 마지막일자를 마지막 노드에 추가하기 \n",
    "if date_array[-1] != end_date:\n",
    "    date_array = np.append(date_array, end_date)\n",
    "    \n",
    "date_array\n",
    "# 출력 : 7일간격의 노드별 날짜리스트구하기\n",
    "'''\n",
    "array(['2023-06-30T00:00:00.000000000', '2023-07-07T00:00:00.000000000',\n",
    "       '2023-07-14T00:00:00.000000000', '2023-07-21T00:00:00.000000000',\n",
    "       '2023-07-28T00:00:00.000000000', '2023-08-04T00:00:00.000000000',\n",
    "       '2023-08-11T00:00:00.000000000', '2023-08-18T00:00:00.000000000',\n",
    "       '2023-08-25T00:00:00.000000000', '2023-09-01T00:00:00.000000000',\n",
    "       '2023-09-08T00:00:00.000000000', '2023-09-15T00:00:00.000000000',\n",
    "       '2023-09-22T00:00:00.000000000', '2023-09-29T00:00:00.000000000',\n",
    "       '2023-10-06T00:00:00.000000000', '2023-10-13T00:00:00.000000000',\n",
    "       '2023-10-20T00:00:00.000000000', '2023-10-27T00:00:00.000000000',\n",
    "       '2023-11-03T00:00:00.000000000', '2023-11-10T00:00:00.000000000',\n",
    "       '2023-11-17T00:00:00.000000000', '2023-11-24T00:00:00.000000000',\n",
    "       '2023-12-01T00:00:00.000000000', '2023-12-08T00:00:00.000000000',\n",
    "       '2023-12-15T00:00:00.000000000', '2023-12-22T00:00:00.000000000',\n",
    "       '2023-12-29T00:00:00.000000000', '2023-12-31T00:00:00.000000000'],\n",
    "      dtype='datetime64[ns]')'''"
   ]
  }
 ],
 "metadata": {
  "kernelspec": {
   "display_name": "deepsearch-valuation",
   "language": "python",
   "name": "python3"
  },
  "language_info": {
   "codemirror_mode": {
    "name": "ipython",
    "version": 3
   },
   "file_extension": ".py",
   "mimetype": "text/x-python",
   "name": "python",
   "nbconvert_exporter": "python",
   "pygments_lexer": "ipython3",
   "version": "3.8.1"
  },
  "orig_nbformat": 4
 },
 "nbformat": 4,
 "nbformat_minor": 2
}
